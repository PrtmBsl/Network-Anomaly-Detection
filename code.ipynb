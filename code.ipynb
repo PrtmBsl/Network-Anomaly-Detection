{
 "cells": [
  {
   "cell_type": "code",
   "execution_count": 2,
   "metadata": {},
   "outputs": [],
   "source": [
    "import pandas as pd \n",
    "import numpy as np "
   ]
  },
  {
   "cell_type": "code",
   "execution_count": 3,
   "metadata": {},
   "outputs": [
    {
     "data": {
      "text/html": [
       "<div>\n",
       "<style scoped>\n",
       "    .dataframe tbody tr th:only-of-type {\n",
       "        vertical-align: middle;\n",
       "    }\n",
       "\n",
       "    .dataframe tbody tr th {\n",
       "        vertical-align: top;\n",
       "    }\n",
       "\n",
       "    .dataframe thead th {\n",
       "        text-align: right;\n",
       "    }\n",
       "</style>\n",
       "<table border=\"1\" class=\"dataframe\">\n",
       "  <thead>\n",
       "    <tr style=\"text-align: right;\">\n",
       "      <th></th>\n",
       "      <th>duration</th>\n",
       "      <th>protocoltype</th>\n",
       "      <th>service</th>\n",
       "      <th>flag</th>\n",
       "      <th>srcbytes</th>\n",
       "      <th>dstbytes</th>\n",
       "      <th>land</th>\n",
       "      <th>wrongfragment</th>\n",
       "      <th>urgent</th>\n",
       "      <th>hot</th>\n",
       "      <th>...</th>\n",
       "      <th>dsthostsamesrvrate</th>\n",
       "      <th>dsthostdiffsrvrate</th>\n",
       "      <th>dsthostsamesrcportrate</th>\n",
       "      <th>dsthostsrvdiffhostrate</th>\n",
       "      <th>dsthostserrorrate</th>\n",
       "      <th>dsthostsrvserrorrate</th>\n",
       "      <th>dsthostrerrorrate</th>\n",
       "      <th>dsthostsrvrerrorrate</th>\n",
       "      <th>lastflag</th>\n",
       "      <th>attack</th>\n",
       "    </tr>\n",
       "  </thead>\n",
       "  <tbody>\n",
       "    <tr>\n",
       "      <th>0</th>\n",
       "      <td>0</td>\n",
       "      <td>tcp</td>\n",
       "      <td>netbios_dgm</td>\n",
       "      <td>REJ</td>\n",
       "      <td>0</td>\n",
       "      <td>0</td>\n",
       "      <td>0</td>\n",
       "      <td>0</td>\n",
       "      <td>0</td>\n",
       "      <td>0</td>\n",
       "      <td>...</td>\n",
       "      <td>0.06</td>\n",
       "      <td>0.06</td>\n",
       "      <td>0.00</td>\n",
       "      <td>0.00</td>\n",
       "      <td>0.00</td>\n",
       "      <td>0.0</td>\n",
       "      <td>1.00</td>\n",
       "      <td>1.0</td>\n",
       "      <td>21</td>\n",
       "      <td>1</td>\n",
       "    </tr>\n",
       "    <tr>\n",
       "      <th>1</th>\n",
       "      <td>0</td>\n",
       "      <td>tcp</td>\n",
       "      <td>smtp</td>\n",
       "      <td>SF</td>\n",
       "      <td>1239</td>\n",
       "      <td>400</td>\n",
       "      <td>0</td>\n",
       "      <td>0</td>\n",
       "      <td>0</td>\n",
       "      <td>0</td>\n",
       "      <td>...</td>\n",
       "      <td>0.45</td>\n",
       "      <td>0.04</td>\n",
       "      <td>0.00</td>\n",
       "      <td>0.00</td>\n",
       "      <td>0.11</td>\n",
       "      <td>0.0</td>\n",
       "      <td>0.02</td>\n",
       "      <td>0.0</td>\n",
       "      <td>18</td>\n",
       "      <td>0</td>\n",
       "    </tr>\n",
       "    <tr>\n",
       "      <th>2</th>\n",
       "      <td>0</td>\n",
       "      <td>tcp</td>\n",
       "      <td>http</td>\n",
       "      <td>SF</td>\n",
       "      <td>222</td>\n",
       "      <td>945</td>\n",
       "      <td>0</td>\n",
       "      <td>0</td>\n",
       "      <td>0</td>\n",
       "      <td>0</td>\n",
       "      <td>...</td>\n",
       "      <td>1.00</td>\n",
       "      <td>0.00</td>\n",
       "      <td>0.02</td>\n",
       "      <td>0.03</td>\n",
       "      <td>0.00</td>\n",
       "      <td>0.0</td>\n",
       "      <td>0.00</td>\n",
       "      <td>0.0</td>\n",
       "      <td>21</td>\n",
       "      <td>0</td>\n",
       "    </tr>\n",
       "    <tr>\n",
       "      <th>3</th>\n",
       "      <td>0</td>\n",
       "      <td>tcp</td>\n",
       "      <td>http</td>\n",
       "      <td>SF</td>\n",
       "      <td>235</td>\n",
       "      <td>1380</td>\n",
       "      <td>0</td>\n",
       "      <td>0</td>\n",
       "      <td>0</td>\n",
       "      <td>0</td>\n",
       "      <td>...</td>\n",
       "      <td>1.00</td>\n",
       "      <td>0.00</td>\n",
       "      <td>0.00</td>\n",
       "      <td>0.00</td>\n",
       "      <td>0.00</td>\n",
       "      <td>0.0</td>\n",
       "      <td>0.00</td>\n",
       "      <td>0.0</td>\n",
       "      <td>21</td>\n",
       "      <td>0</td>\n",
       "    </tr>\n",
       "    <tr>\n",
       "      <th>4</th>\n",
       "      <td>0</td>\n",
       "      <td>tcp</td>\n",
       "      <td>uucp_path</td>\n",
       "      <td>REJ</td>\n",
       "      <td>0</td>\n",
       "      <td>0</td>\n",
       "      <td>0</td>\n",
       "      <td>0</td>\n",
       "      <td>0</td>\n",
       "      <td>0</td>\n",
       "      <td>...</td>\n",
       "      <td>0.01</td>\n",
       "      <td>0.08</td>\n",
       "      <td>0.00</td>\n",
       "      <td>0.00</td>\n",
       "      <td>0.00</td>\n",
       "      <td>0.0</td>\n",
       "      <td>1.00</td>\n",
       "      <td>1.0</td>\n",
       "      <td>19</td>\n",
       "      <td>1</td>\n",
       "    </tr>\n",
       "  </tbody>\n",
       "</table>\n",
       "<p>5 rows × 43 columns</p>\n",
       "</div>"
      ],
      "text/plain": [
       "   duration protocoltype      service flag  srcbytes  dstbytes  land  \\\n",
       "0         0          tcp  netbios_dgm  REJ         0         0     0   \n",
       "1         0          tcp         smtp   SF      1239       400     0   \n",
       "2         0          tcp         http   SF       222       945     0   \n",
       "3         0          tcp         http   SF       235      1380     0   \n",
       "4         0          tcp    uucp_path  REJ         0         0     0   \n",
       "\n",
       "   wrongfragment  urgent  hot  ...  dsthostsamesrvrate  dsthostdiffsrvrate  \\\n",
       "0              0       0    0  ...                0.06                0.06   \n",
       "1              0       0    0  ...                0.45                0.04   \n",
       "2              0       0    0  ...                1.00                0.00   \n",
       "3              0       0    0  ...                1.00                0.00   \n",
       "4              0       0    0  ...                0.01                0.08   \n",
       "\n",
       "   dsthostsamesrcportrate  dsthostsrvdiffhostrate  dsthostserrorrate  \\\n",
       "0                    0.00                    0.00               0.00   \n",
       "1                    0.00                    0.00               0.11   \n",
       "2                    0.02                    0.03               0.00   \n",
       "3                    0.00                    0.00               0.00   \n",
       "4                    0.00                    0.00               0.00   \n",
       "\n",
       "   dsthostsrvserrorrate  dsthostrerrorrate  dsthostsrvrerrorrate  lastflag  \\\n",
       "0                   0.0               1.00                   1.0        21   \n",
       "1                   0.0               0.02                   0.0        18   \n",
       "2                   0.0               0.00                   0.0        21   \n",
       "3                   0.0               0.00                   0.0        21   \n",
       "4                   0.0               1.00                   1.0        19   \n",
       "\n",
       "   attack  \n",
       "0       1  \n",
       "1       0  \n",
       "2       0  \n",
       "3       0  \n",
       "4       1  \n",
       "\n",
       "[5 rows x 43 columns]"
      ]
     },
     "execution_count": 3,
     "metadata": {},
     "output_type": "execute_result"
    }
   ],
   "source": [
    "ds = pd.read_csv('C:/Users/Pratham/Downloads/Train_Data (1).csv')\n",
    "ds.head()"
   ]
  },
  {
   "cell_type": "code",
   "execution_count": 4,
   "metadata": {},
   "outputs": [
    {
     "data": {
      "text/plain": [
       "(86845, 43)"
      ]
     },
     "execution_count": 4,
     "metadata": {},
     "output_type": "execute_result"
    }
   ],
   "source": [
    "ds.shape"
   ]
  },
  {
   "cell_type": "code",
   "execution_count": 5,
   "metadata": {},
   "outputs": [
    {
     "data": {
      "text/plain": [
       "<bound method NDFrame.describe of        duration protocoltype      service flag  srcbytes  dstbytes  land  \\\n",
       "0             0          tcp  netbios_dgm  REJ         0         0     0   \n",
       "1             0          tcp         smtp   SF      1239       400     0   \n",
       "2             0          tcp         http   SF       222       945     0   \n",
       "3             0          tcp         http   SF       235      1380     0   \n",
       "4             0          tcp    uucp_path  REJ         0         0     0   \n",
       "...         ...          ...          ...  ...       ...       ...   ...   \n",
       "86840         0          tcp         http   SF       216       674     0   \n",
       "86841         0          tcp         http   SF       368      1725     0   \n",
       "86842        28          tcp          ftp   SF      1483      4152     0   \n",
       "86843         0          tcp         smtp   SF      1679       385     0   \n",
       "86844     11343          tcp       telnet   SF      3396     16694     0   \n",
       "\n",
       "       wrongfragment  urgent  hot  ...  dsthostsamesrvrate  \\\n",
       "0                  0       0    0  ...                0.06   \n",
       "1                  0       0    0  ...                0.45   \n",
       "2                  0       0    0  ...                1.00   \n",
       "3                  0       0    0  ...                1.00   \n",
       "4                  0       0    0  ...                0.01   \n",
       "...              ...     ...  ...  ...                 ...   \n",
       "86840              0       0    0  ...                1.00   \n",
       "86841              0       0    0  ...                1.00   \n",
       "86842              0       0   30  ...                0.28   \n",
       "86843              0       0    0  ...                0.16   \n",
       "86844              0       0    0  ...                0.18   \n",
       "\n",
       "       dsthostdiffsrvrate  dsthostsamesrcportrate  dsthostsrvdiffhostrate  \\\n",
       "0                    0.06                    0.00                    0.00   \n",
       "1                    0.04                    0.00                    0.00   \n",
       "2                    0.00                    0.02                    0.03   \n",
       "3                    0.00                    0.00                    0.00   \n",
       "4                    0.08                    0.00                    0.00   \n",
       "...                   ...                     ...                     ...   \n",
       "86840                0.00                    0.01                    0.03   \n",
       "86841                0.00                    0.03                    0.05   \n",
       "86842                0.04                    0.01                    0.00   \n",
       "86843                0.08                    0.00                    0.00   \n",
       "86844                0.02                    0.00                    0.00   \n",
       "\n",
       "       dsthostserrorrate  dsthostsrvserrorrate  dsthostrerrorrate  \\\n",
       "0                   0.00                  0.00               1.00   \n",
       "1                   0.11                  0.00               0.02   \n",
       "2                   0.00                  0.00               0.00   \n",
       "3                   0.00                  0.00               0.00   \n",
       "4                   0.00                  0.00               1.00   \n",
       "...                  ...                   ...                ...   \n",
       "86840               0.01                  0.01               0.00   \n",
       "86841               0.00                  0.00               0.13   \n",
       "86842               0.00                  0.00               0.00   \n",
       "86843               0.69                  0.00               0.01   \n",
       "86844               0.23                  0.33               0.00   \n",
       "\n",
       "       dsthostsrvrerrorrate  lastflag  attack  \n",
       "0                      1.00        21       1  \n",
       "1                      0.00        18       0  \n",
       "2                      0.00        21       0  \n",
       "3                      0.00        21       0  \n",
       "4                      1.00        19       1  \n",
       "...                     ...       ...     ...  \n",
       "86840                  0.00        21       0  \n",
       "86841                  0.06        20       0  \n",
       "86842                  0.00        20       0  \n",
       "86843                  0.00        18       0  \n",
       "86844                  0.00        18       0  \n",
       "\n",
       "[86845 rows x 43 columns]>"
      ]
     },
     "execution_count": 5,
     "metadata": {},
     "output_type": "execute_result"
    }
   ],
   "source": [
    "ds.describe"
   ]
  },
  {
   "cell_type": "code",
   "execution_count": 6,
   "metadata": {},
   "outputs": [
    {
     "data": {
      "text/plain": [
       "duration                  0\n",
       "protocoltype              0\n",
       "service                   0\n",
       "flag                      0\n",
       "srcbytes                  0\n",
       "dstbytes                  0\n",
       "land                      0\n",
       "wrongfragment             0\n",
       "urgent                    0\n",
       "hot                       0\n",
       "numfailedlogins           0\n",
       "loggedin                  0\n",
       "numcompromised            0\n",
       "rootshell                 0\n",
       "suattempted               0\n",
       "numroot                   0\n",
       "numfilecreations          0\n",
       "numshells                 0\n",
       "numaccessfiles            0\n",
       "numoutboundcmds           0\n",
       "ishostlogin               0\n",
       "isguestlogin              0\n",
       "count                     0\n",
       "srvcount                  0\n",
       "serrorrate                0\n",
       "srvserrorrate             0\n",
       "rerrorrate                0\n",
       "srvrerrorrate             0\n",
       "samesrvrate               0\n",
       "diffsrvrate               0\n",
       "srvdiffhostrate           0\n",
       "dsthostcount              0\n",
       "dsthostsrvcount           0\n",
       "dsthostsamesrvrate        0\n",
       "dsthostdiffsrvrate        0\n",
       "dsthostsamesrcportrate    0\n",
       "dsthostsrvdiffhostrate    0\n",
       "dsthostserrorrate         0\n",
       "dsthostsrvserrorrate      0\n",
       "dsthostrerrorrate         0\n",
       "dsthostsrvrerrorrate      0\n",
       "lastflag                  0\n",
       "attack                    0\n",
       "dtype: int64"
      ]
     },
     "execution_count": 6,
     "metadata": {},
     "output_type": "execute_result"
    }
   ],
   "source": [
    "ds.isnull().sum()"
   ]
  },
  {
   "cell_type": "code",
   "execution_count": 7,
   "metadata": {},
   "outputs": [
    {
     "data": {
      "text/plain": [
       "duration                    int64\n",
       "protocoltype               object\n",
       "service                    object\n",
       "flag                       object\n",
       "srcbytes                    int64\n",
       "dstbytes                    int64\n",
       "land                        int64\n",
       "wrongfragment               int64\n",
       "urgent                      int64\n",
       "hot                         int64\n",
       "numfailedlogins             int64\n",
       "loggedin                    int64\n",
       "numcompromised              int64\n",
       "rootshell                   int64\n",
       "suattempted                 int64\n",
       "numroot                     int64\n",
       "numfilecreations            int64\n",
       "numshells                   int64\n",
       "numaccessfiles              int64\n",
       "numoutboundcmds             int64\n",
       "ishostlogin                 int64\n",
       "isguestlogin                int64\n",
       "count                       int64\n",
       "srvcount                    int64\n",
       "serrorrate                float64\n",
       "srvserrorrate             float64\n",
       "rerrorrate                float64\n",
       "srvrerrorrate             float64\n",
       "samesrvrate               float64\n",
       "diffsrvrate               float64\n",
       "srvdiffhostrate           float64\n",
       "dsthostcount                int64\n",
       "dsthostsrvcount             int64\n",
       "dsthostsamesrvrate        float64\n",
       "dsthostdiffsrvrate        float64\n",
       "dsthostsamesrcportrate    float64\n",
       "dsthostsrvdiffhostrate    float64\n",
       "dsthostserrorrate         float64\n",
       "dsthostsrvserrorrate      float64\n",
       "dsthostrerrorrate         float64\n",
       "dsthostsrvrerrorrate      float64\n",
       "lastflag                    int64\n",
       "attack                      int64\n",
       "dtype: object"
      ]
     },
     "execution_count": 7,
     "metadata": {},
     "output_type": "execute_result"
    }
   ],
   "source": [
    "ds.dtypes"
   ]
  },
  {
   "cell_type": "code",
   "execution_count": 8,
   "metadata": {},
   "outputs": [],
   "source": [
    "from sklearn.linear_model import LogisticRegression\n",
    "from sklearn.model_selection import train_test_split\n",
    "from sklearn.preprocessing import LabelEncoder\n",
    "from sklearn.metrics import accuracy_score, confusion_matrix, classification_report"
   ]
  },
  {
   "cell_type": "code",
   "execution_count": 9,
   "metadata": {},
   "outputs": [
    {
     "data": {
      "text/plain": [
       "Index(['protocoltype', 'service', 'flag'], dtype='object')"
      ]
     },
     "execution_count": 9,
     "metadata": {},
     "output_type": "execute_result"
    }
   ],
   "source": [
    "categorical_vars = ds.select_dtypes(include = ['object']).columns\n",
    "categorical_vars\n"
   ]
  },
  {
   "cell_type": "code",
   "execution_count": 10,
   "metadata": {},
   "outputs": [
    {
     "name": "stdout",
     "output_type": "stream",
     "text": [
      "0    1\n",
      "1    1\n",
      "2    1\n",
      "3    1\n",
      "4    1\n",
      "Name: protocoltype, dtype: int32\n",
      "0    33\n",
      "1    49\n",
      "2    22\n",
      "3    22\n",
      "4    62\n",
      "Name: service, dtype: int32\n",
      "0    1\n",
      "1    8\n",
      "2    8\n",
      "3    8\n",
      "4    1\n",
      "Name: flag, dtype: int32\n"
     ]
    }
   ],
   "source": [
    "for col in categorical_vars:\n",
    "    le = LabelEncoder()\n",
    "    ds[col] = le.fit_transform(ds[col])\n",
    "for col in categorical_vars:\n",
    "    print (ds[col].head())"
   ]
  },
  {
   "cell_type": "code",
   "execution_count": 11,
   "metadata": {},
   "outputs": [
    {
     "data": {
      "text/plain": [
       "0    1\n",
       "1    0\n",
       "2    0\n",
       "3    0\n",
       "4    1\n",
       "Name: attack, dtype: int64"
      ]
     },
     "execution_count": 11,
     "metadata": {},
     "output_type": "execute_result"
    }
   ],
   "source": [
    "y = ds['attack']\n",
    "y.head()"
   ]
  },
  {
   "cell_type": "code",
   "execution_count": 12,
   "metadata": {},
   "outputs": [
    {
     "data": {
      "text/html": [
       "<div>\n",
       "<style scoped>\n",
       "    .dataframe tbody tr th:only-of-type {\n",
       "        vertical-align: middle;\n",
       "    }\n",
       "\n",
       "    .dataframe tbody tr th {\n",
       "        vertical-align: top;\n",
       "    }\n",
       "\n",
       "    .dataframe thead th {\n",
       "        text-align: right;\n",
       "    }\n",
       "</style>\n",
       "<table border=\"1\" class=\"dataframe\">\n",
       "  <thead>\n",
       "    <tr style=\"text-align: right;\">\n",
       "      <th></th>\n",
       "      <th>duration</th>\n",
       "      <th>protocoltype</th>\n",
       "      <th>service</th>\n",
       "      <th>flag</th>\n",
       "      <th>srcbytes</th>\n",
       "      <th>dstbytes</th>\n",
       "      <th>land</th>\n",
       "      <th>wrongfragment</th>\n",
       "      <th>urgent</th>\n",
       "      <th>hot</th>\n",
       "      <th>...</th>\n",
       "      <th>dsthostsrvcount</th>\n",
       "      <th>dsthostsamesrvrate</th>\n",
       "      <th>dsthostdiffsrvrate</th>\n",
       "      <th>dsthostsamesrcportrate</th>\n",
       "      <th>dsthostsrvdiffhostrate</th>\n",
       "      <th>dsthostserrorrate</th>\n",
       "      <th>dsthostsrvserrorrate</th>\n",
       "      <th>dsthostrerrorrate</th>\n",
       "      <th>dsthostsrvrerrorrate</th>\n",
       "      <th>lastflag</th>\n",
       "    </tr>\n",
       "  </thead>\n",
       "  <tbody>\n",
       "    <tr>\n",
       "      <th>0</th>\n",
       "      <td>0</td>\n",
       "      <td>1</td>\n",
       "      <td>33</td>\n",
       "      <td>1</td>\n",
       "      <td>0</td>\n",
       "      <td>0</td>\n",
       "      <td>0</td>\n",
       "      <td>0</td>\n",
       "      <td>0</td>\n",
       "      <td>0</td>\n",
       "      <td>...</td>\n",
       "      <td>15</td>\n",
       "      <td>0.06</td>\n",
       "      <td>0.06</td>\n",
       "      <td>0.00</td>\n",
       "      <td>0.00</td>\n",
       "      <td>0.00</td>\n",
       "      <td>0.0</td>\n",
       "      <td>1.00</td>\n",
       "      <td>1.0</td>\n",
       "      <td>21</td>\n",
       "    </tr>\n",
       "    <tr>\n",
       "      <th>1</th>\n",
       "      <td>0</td>\n",
       "      <td>1</td>\n",
       "      <td>49</td>\n",
       "      <td>8</td>\n",
       "      <td>1239</td>\n",
       "      <td>400</td>\n",
       "      <td>0</td>\n",
       "      <td>0</td>\n",
       "      <td>0</td>\n",
       "      <td>0</td>\n",
       "      <td>...</td>\n",
       "      <td>116</td>\n",
       "      <td>0.45</td>\n",
       "      <td>0.04</td>\n",
       "      <td>0.00</td>\n",
       "      <td>0.00</td>\n",
       "      <td>0.11</td>\n",
       "      <td>0.0</td>\n",
       "      <td>0.02</td>\n",
       "      <td>0.0</td>\n",
       "      <td>18</td>\n",
       "    </tr>\n",
       "    <tr>\n",
       "      <th>2</th>\n",
       "      <td>0</td>\n",
       "      <td>1</td>\n",
       "      <td>22</td>\n",
       "      <td>8</td>\n",
       "      <td>222</td>\n",
       "      <td>945</td>\n",
       "      <td>0</td>\n",
       "      <td>0</td>\n",
       "      <td>0</td>\n",
       "      <td>0</td>\n",
       "      <td>...</td>\n",
       "      <td>255</td>\n",
       "      <td>1.00</td>\n",
       "      <td>0.00</td>\n",
       "      <td>0.02</td>\n",
       "      <td>0.03</td>\n",
       "      <td>0.00</td>\n",
       "      <td>0.0</td>\n",
       "      <td>0.00</td>\n",
       "      <td>0.0</td>\n",
       "      <td>21</td>\n",
       "    </tr>\n",
       "    <tr>\n",
       "      <th>3</th>\n",
       "      <td>0</td>\n",
       "      <td>1</td>\n",
       "      <td>22</td>\n",
       "      <td>8</td>\n",
       "      <td>235</td>\n",
       "      <td>1380</td>\n",
       "      <td>0</td>\n",
       "      <td>0</td>\n",
       "      <td>0</td>\n",
       "      <td>0</td>\n",
       "      <td>...</td>\n",
       "      <td>255</td>\n",
       "      <td>1.00</td>\n",
       "      <td>0.00</td>\n",
       "      <td>0.00</td>\n",
       "      <td>0.00</td>\n",
       "      <td>0.00</td>\n",
       "      <td>0.0</td>\n",
       "      <td>0.00</td>\n",
       "      <td>0.0</td>\n",
       "      <td>21</td>\n",
       "    </tr>\n",
       "    <tr>\n",
       "      <th>4</th>\n",
       "      <td>0</td>\n",
       "      <td>1</td>\n",
       "      <td>62</td>\n",
       "      <td>1</td>\n",
       "      <td>0</td>\n",
       "      <td>0</td>\n",
       "      <td>0</td>\n",
       "      <td>0</td>\n",
       "      <td>0</td>\n",
       "      <td>0</td>\n",
       "      <td>...</td>\n",
       "      <td>3</td>\n",
       "      <td>0.01</td>\n",
       "      <td>0.08</td>\n",
       "      <td>0.00</td>\n",
       "      <td>0.00</td>\n",
       "      <td>0.00</td>\n",
       "      <td>0.0</td>\n",
       "      <td>1.00</td>\n",
       "      <td>1.0</td>\n",
       "      <td>19</td>\n",
       "    </tr>\n",
       "  </tbody>\n",
       "</table>\n",
       "<p>5 rows × 42 columns</p>\n",
       "</div>"
      ],
      "text/plain": [
       "   duration  protocoltype  service  flag  srcbytes  dstbytes  land  \\\n",
       "0         0             1       33     1         0         0     0   \n",
       "1         0             1       49     8      1239       400     0   \n",
       "2         0             1       22     8       222       945     0   \n",
       "3         0             1       22     8       235      1380     0   \n",
       "4         0             1       62     1         0         0     0   \n",
       "\n",
       "   wrongfragment  urgent  hot  ...  dsthostsrvcount  dsthostsamesrvrate  \\\n",
       "0              0       0    0  ...               15                0.06   \n",
       "1              0       0    0  ...              116                0.45   \n",
       "2              0       0    0  ...              255                1.00   \n",
       "3              0       0    0  ...              255                1.00   \n",
       "4              0       0    0  ...                3                0.01   \n",
       "\n",
       "   dsthostdiffsrvrate  dsthostsamesrcportrate  dsthostsrvdiffhostrate  \\\n",
       "0                0.06                    0.00                    0.00   \n",
       "1                0.04                    0.00                    0.00   \n",
       "2                0.00                    0.02                    0.03   \n",
       "3                0.00                    0.00                    0.00   \n",
       "4                0.08                    0.00                    0.00   \n",
       "\n",
       "   dsthostserrorrate  dsthostsrvserrorrate  dsthostrerrorrate  \\\n",
       "0               0.00                   0.0               1.00   \n",
       "1               0.11                   0.0               0.02   \n",
       "2               0.00                   0.0               0.00   \n",
       "3               0.00                   0.0               0.00   \n",
       "4               0.00                   0.0               1.00   \n",
       "\n",
       "   dsthostsrvrerrorrate  lastflag  \n",
       "0                   1.0        21  \n",
       "1                   0.0        18  \n",
       "2                   0.0        21  \n",
       "3                   0.0        21  \n",
       "4                   1.0        19  \n",
       "\n",
       "[5 rows x 42 columns]"
      ]
     },
     "execution_count": 12,
     "metadata": {},
     "output_type": "execute_result"
    }
   ],
   "source": [
    "X = ds.drop(columns = 'attack', axis = 1) \n",
    "X.head()"
   ]
  },
  {
   "cell_type": "code",
   "execution_count": 13,
   "metadata": {},
   "outputs": [
    {
     "data": {
      "text/plain": [
       "84146    0\n",
       "37807    1\n",
       "28177    1\n",
       "21166    0\n",
       "72761    0\n",
       "Name: attack, dtype: int64"
      ]
     },
     "execution_count": 13,
     "metadata": {},
     "output_type": "execute_result"
    }
   ],
   "source": [
    "X_train, X_test, y_train, y_test = train_test_split(X, y, test_size = 0.3, random_state = 10)\n",
    "y_test.head()\n"
   ]
  },
  {
   "cell_type": "code",
   "execution_count": 14,
   "metadata": {},
   "outputs": [
    {
     "name": "stderr",
     "output_type": "stream",
     "text": [
      "c:\\Pratham\\New folder\\anaconda\\Lib\\site-packages\\sklearn\\linear_model\\_logistic.py:458: ConvergenceWarning: lbfgs failed to converge (status=1):\n",
      "STOP: TOTAL NO. of ITERATIONS REACHED LIMIT.\n",
      "\n",
      "Increase the number of iterations (max_iter) or scale the data as shown in:\n",
      "    https://scikit-learn.org/stable/modules/preprocessing.html\n",
      "Please also refer to the documentation for alternative solver options:\n",
      "    https://scikit-learn.org/stable/modules/linear_model.html#logistic-regression\n",
      "  n_iter_i = _check_optimize_result(\n"
     ]
    },
    {
     "data": {
      "text/html": [
       "<style>#sk-container-id-1 {color: black;background-color: white;}#sk-container-id-1 pre{padding: 0;}#sk-container-id-1 div.sk-toggleable {background-color: white;}#sk-container-id-1 label.sk-toggleable__label {cursor: pointer;display: block;width: 100%;margin-bottom: 0;padding: 0.3em;box-sizing: border-box;text-align: center;}#sk-container-id-1 label.sk-toggleable__label-arrow:before {content: \"▸\";float: left;margin-right: 0.25em;color: #696969;}#sk-container-id-1 label.sk-toggleable__label-arrow:hover:before {color: black;}#sk-container-id-1 div.sk-estimator:hover label.sk-toggleable__label-arrow:before {color: black;}#sk-container-id-1 div.sk-toggleable__content {max-height: 0;max-width: 0;overflow: hidden;text-align: left;background-color: #f0f8ff;}#sk-container-id-1 div.sk-toggleable__content pre {margin: 0.2em;color: black;border-radius: 0.25em;background-color: #f0f8ff;}#sk-container-id-1 input.sk-toggleable__control:checked~div.sk-toggleable__content {max-height: 200px;max-width: 100%;overflow: auto;}#sk-container-id-1 input.sk-toggleable__control:checked~label.sk-toggleable__label-arrow:before {content: \"▾\";}#sk-container-id-1 div.sk-estimator input.sk-toggleable__control:checked~label.sk-toggleable__label {background-color: #d4ebff;}#sk-container-id-1 div.sk-label input.sk-toggleable__control:checked~label.sk-toggleable__label {background-color: #d4ebff;}#sk-container-id-1 input.sk-hidden--visually {border: 0;clip: rect(1px 1px 1px 1px);clip: rect(1px, 1px, 1px, 1px);height: 1px;margin: -1px;overflow: hidden;padding: 0;position: absolute;width: 1px;}#sk-container-id-1 div.sk-estimator {font-family: monospace;background-color: #f0f8ff;border: 1px dotted black;border-radius: 0.25em;box-sizing: border-box;margin-bottom: 0.5em;}#sk-container-id-1 div.sk-estimator:hover {background-color: #d4ebff;}#sk-container-id-1 div.sk-parallel-item::after {content: \"\";width: 100%;border-bottom: 1px solid gray;flex-grow: 1;}#sk-container-id-1 div.sk-label:hover label.sk-toggleable__label {background-color: #d4ebff;}#sk-container-id-1 div.sk-serial::before {content: \"\";position: absolute;border-left: 1px solid gray;box-sizing: border-box;top: 0;bottom: 0;left: 50%;z-index: 0;}#sk-container-id-1 div.sk-serial {display: flex;flex-direction: column;align-items: center;background-color: white;padding-right: 0.2em;padding-left: 0.2em;position: relative;}#sk-container-id-1 div.sk-item {position: relative;z-index: 1;}#sk-container-id-1 div.sk-parallel {display: flex;align-items: stretch;justify-content: center;background-color: white;position: relative;}#sk-container-id-1 div.sk-item::before, #sk-container-id-1 div.sk-parallel-item::before {content: \"\";position: absolute;border-left: 1px solid gray;box-sizing: border-box;top: 0;bottom: 0;left: 50%;z-index: -1;}#sk-container-id-1 div.sk-parallel-item {display: flex;flex-direction: column;z-index: 1;position: relative;background-color: white;}#sk-container-id-1 div.sk-parallel-item:first-child::after {align-self: flex-end;width: 50%;}#sk-container-id-1 div.sk-parallel-item:last-child::after {align-self: flex-start;width: 50%;}#sk-container-id-1 div.sk-parallel-item:only-child::after {width: 0;}#sk-container-id-1 div.sk-dashed-wrapped {border: 1px dashed gray;margin: 0 0.4em 0.5em 0.4em;box-sizing: border-box;padding-bottom: 0.4em;background-color: white;}#sk-container-id-1 div.sk-label label {font-family: monospace;font-weight: bold;display: inline-block;line-height: 1.2em;}#sk-container-id-1 div.sk-label-container {text-align: center;}#sk-container-id-1 div.sk-container {/* jupyter's `normalize.less` sets `[hidden] { display: none; }` but bootstrap.min.css set `[hidden] { display: none !important; }` so we also need the `!important` here to be able to override the default hidden behavior on the sphinx rendered scikit-learn.org. See: https://github.com/scikit-learn/scikit-learn/issues/21755 */display: inline-block !important;position: relative;}#sk-container-id-1 div.sk-text-repr-fallback {display: none;}</style><div id=\"sk-container-id-1\" class=\"sk-top-container\"><div class=\"sk-text-repr-fallback\"><pre>LogisticRegression(max_iter=1000)</pre><b>In a Jupyter environment, please rerun this cell to show the HTML representation or trust the notebook. <br />On GitHub, the HTML representation is unable to render, please try loading this page with nbviewer.org.</b></div><div class=\"sk-container\" hidden><div class=\"sk-item\"><div class=\"sk-estimator sk-toggleable\"><input class=\"sk-toggleable__control sk-hidden--visually\" id=\"sk-estimator-id-1\" type=\"checkbox\" checked><label for=\"sk-estimator-id-1\" class=\"sk-toggleable__label sk-toggleable__label-arrow\">LogisticRegression</label><div class=\"sk-toggleable__content\"><pre>LogisticRegression(max_iter=1000)</pre></div></div></div></div></div>"
      ],
      "text/plain": [
       "LogisticRegression(max_iter=1000)"
      ]
     },
     "execution_count": 14,
     "metadata": {},
     "output_type": "execute_result"
    }
   ],
   "source": [
    "lr = LogisticRegression(max_iter = 1000) \n",
    "lr.fit(X_train, y_train) "
   ]
  },
  {
   "cell_type": "code",
   "execution_count": 15,
   "metadata": {},
   "outputs": [
    {
     "data": {
      "text/plain": [
       "array([0, 1, 1, ..., 0, 1, 0], dtype=int64)"
      ]
     },
     "execution_count": 15,
     "metadata": {},
     "output_type": "execute_result"
    }
   ],
   "source": [
    "lr_pred = lr.predict(X_test)\n",
    "lr_pred"
   ]
  },
  {
   "cell_type": "code",
   "execution_count": 16,
   "metadata": {},
   "outputs": [
    {
     "data": {
      "text/plain": [
       "0.9999616181776311"
      ]
     },
     "execution_count": 16,
     "metadata": {},
     "output_type": "execute_result"
    }
   ],
   "source": [
    "accuracy = accuracy_score (y_test, lr_pred) \n",
    "accuracy"
   ]
  },
  {
   "cell_type": "code",
   "execution_count": 17,
   "metadata": {},
   "outputs": [
    {
     "data": {
      "text/plain": [
       "array([[16194,     1],\n",
       "       [    0,  9859]], dtype=int64)"
      ]
     },
     "execution_count": 17,
     "metadata": {},
     "output_type": "execute_result"
    }
   ],
   "source": [
    "conf_matrix = confusion_matrix (y_test, lr_pred)\n",
    "conf_matrix"
   ]
  },
  {
   "cell_type": "code",
   "execution_count": 18,
   "metadata": {},
   "outputs": [
    {
     "data": {
      "text/plain": [
       "'              precision    recall  f1-score   support\\n\\n           0       1.00      1.00      1.00     16195\\n           1       1.00      1.00      1.00      9859\\n\\n    accuracy                           1.00     26054\\n   macro avg       1.00      1.00      1.00     26054\\nweighted avg       1.00      1.00      1.00     26054\\n'"
      ]
     },
     "execution_count": 18,
     "metadata": {},
     "output_type": "execute_result"
    }
   ],
   "source": [
    "class_report = classification_report(y_test, lr_pred)\n",
    "class_report"
   ]
  },
  {
   "cell_type": "code",
   "execution_count": 19,
   "metadata": {},
   "outputs": [],
   "source": [
    "lr_pred2 = pd.DataFrame(lr_pred)\n",
    "lr_pred2.to_csv('C:/Users/Pratham/Downloads/submit.csv', index = False)"
   ]
  },
  {
   "cell_type": "code",
   "execution_count": 24,
   "metadata": {},
   "outputs": [],
   "source": [
    "df = pd.read_csv('C:/Users/Pratham/Downloads/Test_Data (1).csv') "
   ]
  },
  {
   "cell_type": "code",
   "execution_count": 30,
   "metadata": {},
   "outputs": [
    {
     "name": "stdout",
     "output_type": "stream",
     "text": [
      "0    1\n",
      "1    1\n",
      "2    1\n",
      "3    1\n",
      "4    1\n",
      "Name: protocoltype, dtype: int32\n",
      "0    31\n",
      "1    22\n",
      "2     9\n",
      "3    55\n",
      "4    16\n",
      "Name: service, dtype: int32\n",
      "0    1\n",
      "1    8\n",
      "2    4\n",
      "3    4\n",
      "4    4\n",
      "Name: flag, dtype: int32\n"
     ]
    }
   ],
   "source": [
    "categorical_vars = df.select_dtypes(include = ['object']).columns\n",
    "for col in categorical_vars:\n",
    "    le = LabelEncoder()\n",
    "    df[col] = le.fit_transform(df[col])\n",
    "for col in categorical_vars:\n",
    "    print (df[col].head())"
   ]
  },
  {
   "cell_type": "code",
   "execution_count": 31,
   "metadata": {},
   "outputs": [
    {
     "data": {
      "text/html": [
       "<div>\n",
       "<style scoped>\n",
       "    .dataframe tbody tr th:only-of-type {\n",
       "        vertical-align: middle;\n",
       "    }\n",
       "\n",
       "    .dataframe tbody tr th {\n",
       "        vertical-align: top;\n",
       "    }\n",
       "\n",
       "    .dataframe thead th {\n",
       "        text-align: right;\n",
       "    }\n",
       "</style>\n",
       "<table border=\"1\" class=\"dataframe\">\n",
       "  <thead>\n",
       "    <tr style=\"text-align: right;\">\n",
       "      <th></th>\n",
       "      <th>duration</th>\n",
       "      <th>protocoltype</th>\n",
       "      <th>service</th>\n",
       "      <th>flag</th>\n",
       "      <th>srcbytes</th>\n",
       "      <th>dstbytes</th>\n",
       "      <th>land</th>\n",
       "      <th>wrongfragment</th>\n",
       "      <th>urgent</th>\n",
       "      <th>hot</th>\n",
       "      <th>...</th>\n",
       "      <th>dsthostsrvcount</th>\n",
       "      <th>dsthostsamesrvrate</th>\n",
       "      <th>dsthostdiffsrvrate</th>\n",
       "      <th>dsthostsamesrcportrate</th>\n",
       "      <th>dsthostsrvdiffhostrate</th>\n",
       "      <th>dsthostserrorrate</th>\n",
       "      <th>dsthostsrvserrorrate</th>\n",
       "      <th>dsthostrerrorrate</th>\n",
       "      <th>dsthostsrvrerrorrate</th>\n",
       "      <th>lastflag</th>\n",
       "    </tr>\n",
       "  </thead>\n",
       "  <tbody>\n",
       "    <tr>\n",
       "      <th>0</th>\n",
       "      <td>0</td>\n",
       "      <td>1</td>\n",
       "      <td>31</td>\n",
       "      <td>1</td>\n",
       "      <td>0</td>\n",
       "      <td>0</td>\n",
       "      <td>0</td>\n",
       "      <td>0</td>\n",
       "      <td>0</td>\n",
       "      <td>0</td>\n",
       "      <td>...</td>\n",
       "      <td>7</td>\n",
       "      <td>0.03</td>\n",
       "      <td>0.08</td>\n",
       "      <td>0.0</td>\n",
       "      <td>0.0</td>\n",
       "      <td>0.0</td>\n",
       "      <td>0.0</td>\n",
       "      <td>1.0</td>\n",
       "      <td>1.0</td>\n",
       "      <td>20</td>\n",
       "    </tr>\n",
       "    <tr>\n",
       "      <th>1</th>\n",
       "      <td>0</td>\n",
       "      <td>1</td>\n",
       "      <td>22</td>\n",
       "      <td>8</td>\n",
       "      <td>199</td>\n",
       "      <td>1721</td>\n",
       "      <td>0</td>\n",
       "      <td>0</td>\n",
       "      <td>0</td>\n",
       "      <td>0</td>\n",
       "      <td>...</td>\n",
       "      <td>255</td>\n",
       "      <td>1.00</td>\n",
       "      <td>0.00</td>\n",
       "      <td>0.0</td>\n",
       "      <td>0.0</td>\n",
       "      <td>0.0</td>\n",
       "      <td>0.0</td>\n",
       "      <td>0.0</td>\n",
       "      <td>0.0</td>\n",
       "      <td>21</td>\n",
       "    </tr>\n",
       "    <tr>\n",
       "      <th>2</th>\n",
       "      <td>0</td>\n",
       "      <td>1</td>\n",
       "      <td>9</td>\n",
       "      <td>4</td>\n",
       "      <td>0</td>\n",
       "      <td>0</td>\n",
       "      <td>0</td>\n",
       "      <td>0</td>\n",
       "      <td>0</td>\n",
       "      <td>0</td>\n",
       "      <td>...</td>\n",
       "      <td>14</td>\n",
       "      <td>0.05</td>\n",
       "      <td>0.09</td>\n",
       "      <td>0.0</td>\n",
       "      <td>0.0</td>\n",
       "      <td>1.0</td>\n",
       "      <td>1.0</td>\n",
       "      <td>0.0</td>\n",
       "      <td>0.0</td>\n",
       "      <td>18</td>\n",
       "    </tr>\n",
       "    <tr>\n",
       "      <th>3</th>\n",
       "      <td>0</td>\n",
       "      <td>1</td>\n",
       "      <td>55</td>\n",
       "      <td>4</td>\n",
       "      <td>0</td>\n",
       "      <td>0</td>\n",
       "      <td>0</td>\n",
       "      <td>0</td>\n",
       "      <td>0</td>\n",
       "      <td>0</td>\n",
       "      <td>...</td>\n",
       "      <td>2</td>\n",
       "      <td>0.01</td>\n",
       "      <td>0.09</td>\n",
       "      <td>0.0</td>\n",
       "      <td>0.0</td>\n",
       "      <td>1.0</td>\n",
       "      <td>1.0</td>\n",
       "      <td>0.0</td>\n",
       "      <td>0.0</td>\n",
       "      <td>18</td>\n",
       "    </tr>\n",
       "    <tr>\n",
       "      <th>4</th>\n",
       "      <td>0</td>\n",
       "      <td>1</td>\n",
       "      <td>16</td>\n",
       "      <td>4</td>\n",
       "      <td>0</td>\n",
       "      <td>0</td>\n",
       "      <td>0</td>\n",
       "      <td>0</td>\n",
       "      <td>0</td>\n",
       "      <td>0</td>\n",
       "      <td>...</td>\n",
       "      <td>16</td>\n",
       "      <td>0.06</td>\n",
       "      <td>0.06</td>\n",
       "      <td>0.0</td>\n",
       "      <td>0.0</td>\n",
       "      <td>1.0</td>\n",
       "      <td>1.0</td>\n",
       "      <td>0.0</td>\n",
       "      <td>0.0</td>\n",
       "      <td>20</td>\n",
       "    </tr>\n",
       "  </tbody>\n",
       "</table>\n",
       "<p>5 rows × 42 columns</p>\n",
       "</div>"
      ],
      "text/plain": [
       "   duration  protocoltype  service  flag  srcbytes  dstbytes  land  \\\n",
       "0         0             1       31     1         0         0     0   \n",
       "1         0             1       22     8       199      1721     0   \n",
       "2         0             1        9     4         0         0     0   \n",
       "3         0             1       55     4         0         0     0   \n",
       "4         0             1       16     4         0         0     0   \n",
       "\n",
       "   wrongfragment  urgent  hot  ...  dsthostsrvcount  dsthostsamesrvrate  \\\n",
       "0              0       0    0  ...                7                0.03   \n",
       "1              0       0    0  ...              255                1.00   \n",
       "2              0       0    0  ...               14                0.05   \n",
       "3              0       0    0  ...                2                0.01   \n",
       "4              0       0    0  ...               16                0.06   \n",
       "\n",
       "   dsthostdiffsrvrate  dsthostsamesrcportrate  dsthostsrvdiffhostrate  \\\n",
       "0                0.08                     0.0                     0.0   \n",
       "1                0.00                     0.0                     0.0   \n",
       "2                0.09                     0.0                     0.0   \n",
       "3                0.09                     0.0                     0.0   \n",
       "4                0.06                     0.0                     0.0   \n",
       "\n",
       "   dsthostserrorrate  dsthostsrvserrorrate  dsthostrerrorrate  \\\n",
       "0                0.0                   0.0                1.0   \n",
       "1                0.0                   0.0                0.0   \n",
       "2                1.0                   1.0                0.0   \n",
       "3                1.0                   1.0                0.0   \n",
       "4                1.0                   1.0                0.0   \n",
       "\n",
       "   dsthostsrvrerrorrate  lastflag  \n",
       "0                   1.0        20  \n",
       "1                   0.0        21  \n",
       "2                   0.0        18  \n",
       "3                   0.0        18  \n",
       "4                   0.0        20  \n",
       "\n",
       "[5 rows x 42 columns]"
      ]
     },
     "execution_count": 31,
     "metadata": {},
     "output_type": "execute_result"
    }
   ],
   "source": [
    "X_test1 = df\n",
    "X_test1.head()"
   ]
  },
  {
   "cell_type": "code",
   "execution_count": 35,
   "metadata": {},
   "outputs": [
    {
     "data": {
      "text/plain": [
       "array([1, 0, 1, ..., 1, 0, 1], dtype=int64)"
      ]
     },
     "execution_count": 35,
     "metadata": {},
     "output_type": "execute_result"
    }
   ],
   "source": [
    "a = lr.predict(X_test1) \n",
    "a"
   ]
  },
  {
   "cell_type": "code",
   "execution_count": 44,
   "metadata": {},
   "outputs": [],
   "source": [
    "b = pd.DataFrame(a)\n",
    "b.rename (columns = {0 : 'attack'}, inplace = True) \n",
    "b.to_csv('C:/Users/Pratham/Downloads/suba.csv', index = False) "
   ]
  }
 ],
 "metadata": {
  "kernelspec": {
   "display_name": "Python 3",
   "language": "python",
   "name": "python3"
  },
  "language_info": {
   "codemirror_mode": {
    "name": "ipython",
    "version": 3
   },
   "file_extension": ".py",
   "mimetype": "text/x-python",
   "name": "python",
   "nbconvert_exporter": "python",
   "pygments_lexer": "ipython3",
   "version": "3.11.7"
  }
 },
 "nbformat": 4,
 "nbformat_minor": 2
}
